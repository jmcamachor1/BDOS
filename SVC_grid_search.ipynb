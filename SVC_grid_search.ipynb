{
 "cells": [
  {
   "cell_type": "code",
   "execution_count": 20,
   "metadata": {},
   "outputs": [],
   "source": [
    "import spacy\n",
    "import en_core_web_sm\n",
    "nlp = en_core_web_sm.load(disable=[ \"ner\",\"tagger\",'textcat'])\n",
    "from spellchecker import SpellChecker\n",
    "import nltk\n",
    "from nltk.tokenize import word_tokenize\n",
    "import re\n",
    "import string\n",
    "import unicodedata\n",
    "import emoji as emoji\n",
    "import regex\n",
    "import spacy\n",
    "from spacy.tokens import Token\n",
    "from bs4 import BeautifulSoup\n",
    "import pandas as pd\n",
    "from nltk.corpus import stopwords\n",
    "from tqdm import tqdm\n",
    "tqdm.pandas()\n",
    "from sklearn.model_selection import train_test_split\n",
    "from sklearn import feature_extraction, linear_model, model_selection, preprocessing\n",
    "from sklearn.feature_extraction.text import TfidfTransformer\n",
    "from sklearn.naive_bayes import GaussianNB, MultinomialNB\n",
    "from sklearn.ensemble import RandomForestClassifier\n",
    "from sklearn.svm import SVC\n",
    "from sklearn.metrics import accuracy_score, confusion_matrix, f1_score\n",
    "from sklearn import tree\n",
    "from sklearn.ensemble import RandomForestClassifier\n",
    "from sklearn.linear_model import LogisticRegression\n",
    "from sklearn.ensemble import RandomForestClassifier\n",
    "from pandas import Panel\n",
    "from sklearn.svm import LinearSVC\n",
    "from sklearn.ensemble import GradientBoostingClassifier\n",
    "from sklearn.model_selection import ParameterGrid\n",
    "from sklearn.model_selection import KFold\n",
    "import time\n",
    "import numpy as np\n",
    "from sklearn.metrics import recall_score\n",
    "from sklearn.metrics import accuracy_score\n",
    "from sklearn.metrics import precision_score\n",
    "import warnings\n",
    "warnings.filterwarnings(\"ignore\")"
   ]
  },
  {
   "cell_type": "code",
   "execution_count": 21,
   "metadata": {},
   "outputs": [],
   "source": [
    "\n",
    "def SVC_grid_search(hyper_comb,X_train,y_train,file_name):\n",
    "    start=time.time()\n",
    "    all_res_cv = []\n",
    "    cv = KFold(n_splits=5, shuffle=True, random_state=1848773) # 5 fold\n",
    "    grid = ParameterGrid(hyper_comb) #all possible combination of parameters chosen\n",
    "    for hypers in tqdm(grid):\n",
    "        val_f1_list = []\n",
    "        train_f1_list = []\n",
    "        val_recall_list=[]\n",
    "        train_recall_list=[]\n",
    "        val_accuracy_list=[]\n",
    "        train_accuracy_list=[]\n",
    "        val_pre_list=[]\n",
    "        train_pre_list=[]\n",
    "        C = hypers['C']\n",
    "        coef0 = hypers['coef0']\n",
    "        kernel=hypers['kernel']\n",
    "        degree=hypers['degree']\n",
    "        gamma=hypers['gamma']\n",
    "        shrinking=hypers['shrinking']\n",
    "        decision_function_shape=hypers['decision_function_shape']\n",
    "\n",
    "        for train_index, test_index in cv.split(X_train): # cross validation\n",
    "            #take 80% and 20%\n",
    "            X_train_cv, X_val, y_train_cv, y_val = X_train[train_index], X_train[test_index], y_train[train_index], y_train[test_index]\n",
    "            #fit the model with the chosen parameters\n",
    "            model=SVC(C=C,coef0=coef0,kernel=kernel,degree=degree,gamma=gamma,shrinking=shrinking,decision_function_shape=decision_function_shape,random_state=1848773).fit(X_train_cv,y_train_cv)\n",
    "            # make prediction and compute F1\n",
    "            pred_train = model.predict(X_train_cv)\n",
    "            pred_val = model.predict(X_val)\n",
    "            #F1 SCORE\n",
    "            f1_train = f1_score(y_train_cv, pred_train, average='micro')\n",
    "            train_f1_list.append(f1_train)\n",
    "            f1_val = f1_score(y_val, pred_val, average='micro')\n",
    "            val_f1_list.append(f1_val)\n",
    "            #RECALL VALUES\n",
    "            recall_train=recall_score(y_train_cv,pred_train, average='micro')\n",
    "            train_recall_list.append(recall_train)\n",
    "            recall_val=recall_score(y_val,pred_val, average='micro')\n",
    "            val_recall_list.append(recall_val)\n",
    "            #ACCURACY\n",
    "            accuracy_train=accuracy_score(y_train_cv,pred_train)\n",
    "            train_accuracy_list.append(accuracy_train)\n",
    "            accuracy_val=accuracy_score(y_val,pred_val)\n",
    "            val_accuracy_list.append(accuracy_val)\n",
    "            #PRECISION\n",
    "            pre_train=precision_score(y_train_cv,pred_train, average='micro')\n",
    "            train_pre_list.append(pre_train)\n",
    "            pre_val=precision_score(y_val,pred_val, average='micro')\n",
    "            val_pre_list.append(pre_val)\n",
    "            \n",
    "        all_res_cv.append({'C':C,\n",
    "                           'coef0' :coef0,\n",
    "                            'kernel':kernel,\n",
    "                            'degree':degree,\n",
    "                            'gamma':gamma,\n",
    "                        'shrinking':shrinking,\n",
    "                            'decision_function_shape':decision_function_shape,\n",
    "\n",
    "                           'val_f1':np.mean(val_f1_list), \n",
    "                           'train_f1':np.mean(train_f1_list),\n",
    "                           'val_recall':np.mean(val_recall_list), \n",
    "                           'train_recall':np.mean(train_recall_list),\n",
    "                           'val_acc':np.mean(val_accuracy_list), \n",
    "                           'train_acc':np.mean(train_accuracy_list),\n",
    "                           'val_pre':np.mean(val_pre_list),\n",
    "                          'train_pre':np.mean(train_pre_list)})\n",
    "        \n",
    "        '''\n",
    "        print(({'C':C,\n",
    "                           'coef0' :coef0,\n",
    "                            'kernel':kernel,\n",
    "                            'degree':degree,\n",
    "                            'gamma':gamma,\n",
    "                        'shrinking':shrinking,\n",
    "                            'decision_function_shape':decision_function_shape,'val_f1':np.mean(val_f1_list), 'train_f1':np.mean(train_f1_list)}))\n",
    "        '''\n",
    "\n",
    "        # after the 5th iteration we make the mean of the collected errors to find a more reliable value for the error\n",
    "    end=time.time()-start\n",
    "    df = pd.DataFrame(all_res_cv) # collect all results in a dataframe\n",
    "    df.to_csv(file_name, index=False) # save dataframe in csv with results\n",
    "\n",
    "    return print('File created grid_search_cv')\n"
   ]
  },
  {
   "cell_type": "code",
   "execution_count": 22,
   "metadata": {},
   "outputs": [],
   "source": [
    "train=pd.read_csv('pre_train.csv')"
   ]
  },
  {
   "cell_type": "code",
   "execution_count": 23,
   "metadata": {},
   "outputs": [],
   "source": [
    "sub=list(train['prep_text'])\n",
    "sub[5115]='Err:509'\n",
    "train['prep_text']=sub"
   ]
  },
  {
   "cell_type": "markdown",
   "metadata": {},
   "source": [
    "## bow_models"
   ]
  },
  {
   "cell_type": "code",
   "execution_count": 24,
   "metadata": {},
   "outputs": [],
   "source": [
    "X = train['prep_text']\n",
    "y = train['target']"
   ]
  },
  {
   "cell_type": "code",
   "execution_count": 25,
   "metadata": {},
   "outputs": [],
   "source": [
    "count_vectorizer = feature_extraction.text.CountVectorizer()\n",
    "X_train_=count_vectorizer.fit_transform(X)"
   ]
  },
  {
   "cell_type": "code",
   "execution_count": 33,
   "metadata": {},
   "outputs": [],
   "source": [
    "hyper_comb={'C':list(np.arange(0.5,3,0.25)),\n",
    "            'coef0':[1],\n",
    "              'kernel':['linear','poly','rbf','sigmoid'],\n",
    "           'degree':[3],\n",
    "           'gamma':['scale','auto'],\n",
    "           'shrinking':[True,False],\n",
    "           'decision_function_shape':['ovo','ovr']} ##combination of hyperparameters"
   ]
  },
  {
   "cell_type": "markdown",
   "metadata": {},
   "source": [
    "SVC_grid_search(hyper_comb,X_train_,y,'SVC_grid_search_cv_bow.csv')"
   ]
  },
  {
   "cell_type": "code",
   "execution_count": 35,
   "metadata": {},
   "outputs": [
    {
     "data": {
      "text/plain": [
       "0.8048080979945695"
      ]
     },
     "execution_count": 35,
     "metadata": {},
     "output_type": "execute_result"
    }
   ],
   "source": [
    "max(list(pd.read_csv('svc_grid_search_cv_bow.csv')['val_f1']))"
   ]
  },
  {
   "cell_type": "markdown",
   "metadata": {},
   "source": [
    "### tf_idf"
   ]
  },
  {
   "cell_type": "code",
   "execution_count": 38,
   "metadata": {},
   "outputs": [],
   "source": [
    "tfidf_transformer = TfidfTransformer()\n",
    "train_tfidf_ = tfidf_transformer.fit_transform(X_train_)"
   ]
  },
  {
   "cell_type": "markdown",
   "metadata": {},
   "source": [
    "SVC_grid_search(hyper_comb,train_tfidf_,y,'SVC_grid_search_cv_tfidf.csv')"
   ]
  },
  {
   "cell_type": "code",
   "execution_count": 40,
   "metadata": {},
   "outputs": [
    {
     "data": {
      "text/plain": [
       "0.8024433068766863"
      ]
     },
     "execution_count": 40,
     "metadata": {},
     "output_type": "execute_result"
    }
   ],
   "source": [
    "max(list(pd.read_csv('svc_grid_search_cv_tfidf.csv')['val_f1']))"
   ]
  }
 ],
 "metadata": {
  "kernelspec": {
   "display_name": "Python 3",
   "language": "python",
   "name": "python3"
  },
  "language_info": {
   "codemirror_mode": {
    "name": "ipython",
    "version": 3
   },
   "file_extension": ".py",
   "mimetype": "text/x-python",
   "name": "python",
   "nbconvert_exporter": "python",
   "pygments_lexer": "ipython3",
   "version": "3.7.4"
  }
 },
 "nbformat": 4,
 "nbformat_minor": 2
}
